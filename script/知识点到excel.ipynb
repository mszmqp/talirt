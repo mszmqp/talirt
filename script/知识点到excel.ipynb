{
 "cells": [
  {
   "cell_type": "code",
   "execution_count": 2,
   "metadata": {
    "collapsed": true
   },
   "outputs": [],
   "source": [
    "%matplotlib inline\n",
    "\n",
    "import math\n",
    "import sys\n",
    "import os\n",
    "import numpy as np\n",
    "from io import StringIO\n",
    "import matplotlib.pyplot as plt\n",
    "import pandas as pd\n",
    "import ibis\n",
    "# from pyspark import SparkContext\n",
    "# from pyspark.sql import SparkSession\n",
    "# impala_client.close()\n",
    "# hdfs_client.close()\n",
    "ibis.options.sql.default_limit = None\n",
    "impala_client = ibis.impala.connect(host='192.168.23.236', port=21050, user='app_bi')\n",
    "hdfs_client = ibis.hdfs_connect(host='192.168.23.223', port=50070,user='app_bi').client\n",
    "\n",
    "# spark = SparkSession.builder \\\n",
    "#    .master(\"yarn\") \\\n",
    "#    .appName(\"spark_test\") \\\n",
    "#       .config(\"spark.executor.instances\", 20) \\\n",
    "#        .config(\"spark.executor.cores\", 1) \\\n",
    "#        .config(\"spark.executor.memory\", '4G') \\\n",
    "#        .config(\"spark.driver.memory\", '4G') \\\n",
    "#    .enableHiveSupport() \\\n",
    "#    .getOrCreate()\n"
   ]
  },
  {
   "cell_type": "code",
   "execution_count": 4,
   "metadata": {},
   "outputs": [],
   "source": [
    "_sql=\"\"\"\n",
    "        select\n",
    "             id,\n",
    "             name,\n",
    "             parent_id,\n",
    "             degree,\n",
    "             root_id\n",
    "        \n",
    "        from odata.ods_tk_knowledge_hierarchy kh\n",
    "        where\n",
    "            grade_id='2'\n",
    "            and new_subject_id='2'\n",
    "    \n",
    "\"\"\" \n",
    "df_kh = impala_client.sql(_sql).execute()\n"
   ]
  },
  {
   "cell_type": "code",
   "execution_count": 16,
   "metadata": {},
   "outputs": [],
   "source": [
    "def search_kh(content, key):\n",
    "    global g_kh_dict\n",
    "    for node in g_kh_dict[key].itervalues():\n",
    "        if node['name'] in content:\n",
    "            yield node\n",
    "\n",
    "\n",
    "def build_tree(records):\n",
    "    # 知识点需要整理成树形结构\n",
    "\n",
    "    kh_dict = {}\n",
    "    tree = []\n",
    "    kh_list = []\n",
    "    for index,record in records.iterrows():\n",
    "        record = record.to_dict()\n",
    "        kh_dict[record['id']] = record\n",
    "        # 根节点\n",
    "        if record['root_id'] == '0' or record['id'] == record['parent_id'] or record['parent_id'] == '0':\n",
    "            tree.append(record)\n",
    "            continue\n",
    "        kh_list.append(record)\n",
    "    # kh_list = sorted(records, key=lambda x: x['degree'])\n",
    "    # del records\n",
    "    for record in kh_list:\n",
    "        # record = kh_list.pop(0)\n",
    "        # 没找到父节点，也作为根节点\n",
    "        if record['parent_id'] not in kh_dict:\n",
    "            tree.append(record)\n",
    "            continue\n",
    "\n",
    "        parent = kh_dict[record['parent_id']]\n",
    "        parent.setdefault('childList', []).append(record)\n",
    "\n",
    "    return tree"
   ]
  },
  {
   "cell_type": "code",
   "execution_count": 15,
   "metadata": {
    "collapsed": false
   },
   "outputs": [
    {
     "data": {
      "text/plain": [
       "{'degree': 4,\n 'id': '0026cad84e364586bba7c692f1469a5c',\n 'name': '\\xe5\\xa4\\x9a\\xe9\\xa1\\xb9\\xe5\\xbc\\x8f\\xe7\\x9a\\x84\\xe5\\x9f\\xba\\xe6\\x9c\\xac\\xe6\\xa6\\x82\\xe5\\xbf\\xb5',\n 'parent_id': '6oo7ryi0e79zkqai08wbmeohxn6c03ac',\n 'root_id': '6oo7ryi0e79zkqai08wbmeohxn6c03a7'}"
      ]
     },
     "execution_count": 15,
     "metadata": {},
     "output_type": "execute_result"
    }
   ],
   "source": [
    "df_kh.iloc[0].to_dict()"
   ]
  },
  {
   "cell_type": "code",
   "execution_count": 17,
   "metadata": {},
   "outputs": [],
   "source": [
    "trees=build_tree(df_kh)"
   ]
  },
  {
   "cell_type": "code",
   "execution_count": 37,
   "metadata": {
    "collapsed": false
   },
   "outputs": [],
   "source": [
    "def print_trees(trees):\n",
    "    def print_tree(root):\n",
    "        degree = root['degree']\n",
    "        name = root['name']\n",
    "        _id = root['id']\n",
    "        line = [\"\"] * 5\n",
    "        line[0] = _id\n",
    "        line[int(degree)] = name\n",
    "        #line.append()\n",
    "        yield line\n",
    "        for node in root.get('childList', []):\n",
    "            for line in print_tree(node):\n",
    "                yield line\n",
    "\n",
    "    for tree in trees:\n",
    "        for line in print_tree(tree):\n",
    "            yield line\n",
    "\n",
    "\n",
    "data = {\n",
    "    '0知识点ID': [],\n",
    "    '1级': [],\n",
    "    '2级': [],\n",
    "    '3级': [],\n",
    "    '4级': [],\n",
    "    #'5级': [],\n",
    "}\n",
    "for line in print_trees(trees):\n",
    "    data['0知识点ID'].append(line[0])\n",
    "    data['1级'].append(line[1])\n",
    "    data['2级'].append(line[2])\n",
    "    data['3级'].append(line[3])\n",
    "    data['4级'].append(line[4])\n",
    "    #data['5级'].append(line[5])\n",
    "\n",
    "import sys\n",
    "\n",
    "reload(sys)\n",
    "sys.setdefaultencoding('utf-8')\n",
    "writer = pd.ExcelWriter(\"初中数学知识点.xlsx\")\n",
    "pd.DataFrame(data).to_excel(writer, encoding=\"UTF-8\")\n",
    "writer.save()\n"
   ]
  },
  {
   "cell_type": "code",
   "execution_count": 24,
   "metadata": {},
   "outputs": [
    {
     "data": {
      "text/plain": [
       "dict"
      ]
     },
     "execution_count": 24,
     "metadata": {},
     "output_type": "execute_result"
    }
   ],
   "source": [
    "type(trees[0])"
   ]
  },
  {
   "cell_type": "code",
   "execution_count": null,
   "metadata": {},
   "outputs": [],
   "source": []
  }
 ],
 "metadata": {
  "kernelspec": {
   "display_name": "Python 2",
   "language": "python",
   "name": "python2"
  },
  "language_info": {
   "codemirror_mode": {
    "name": "ipython",
    "version": 2
   },
   "file_extension": ".py",
   "mimetype": "text/x-python",
   "name": "python",
   "nbconvert_exporter": "python",
   "pygments_lexer": "ipython2",
   "version": "2.7.6"
  }
 },
 "nbformat": 4,
 "nbformat_minor": 0
}
